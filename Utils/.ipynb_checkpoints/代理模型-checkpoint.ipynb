{
 "cells": [
  {
   "cell_type": "code",
   "execution_count": 1,
   "id": "3e1cd191",
   "metadata": {},
   "outputs": [],
   "source": [
    "import pandas as pd\n",
    "from matplotlib import pyplot as plt\n",
    "import numpy as np\n",
    "from sklearn.gaussian_process import GaussianProcessRegressor\n",
    "from sklearn.gaussian_process.kernels import ConstantKernel, RBF\n",
    "from sklearn.model_selection import train_test_split\n",
    "from sklearn.pipeline import make_pipeline\n",
    "from sklearn.preprocessing import StandardScaler\n",
    "noise = 0.01\n",
    "rbf = ConstantKernel(1.0) * RBF(length_scale=1.0)\n",
    "gpr = GaussianProcessRegressor(kernel=rbf, alpha=noise**2,n_restarts_optimizer=10)"
   ]
  },
  {
   "cell_type": "code",
   "execution_count": 2,
   "id": "fcc59898",
   "metadata": {},
   "outputs": [
    {
     "data": {
      "text/plain": [
       "Pipeline(steps=[('standardscaler', StandardScaler()),\n",
       "                ('gaussianprocessregressor',\n",
       "                 GaussianProcessRegressor(alpha=0.0001,\n",
       "                                          kernel=1**2 * RBF(length_scale=1),\n",
       "                                          n_restarts_optimizer=10))])"
      ]
     },
     "execution_count": 2,
     "metadata": {},
     "output_type": "execute_result"
    }
   ],
   "source": [
    "pipe = make_pipeline(StandardScaler(), gpr)\n",
    "pipe"
   ]
  },
  {
   "cell_type": "code",
   "execution_count": 9,
   "id": "da0eaf0a",
   "metadata": {},
   "outputs": [],
   "source": [
    "dt = pd.read_csv('../records/initial.csv')\n",
    "dt.drop('Unnamed: 0', axis = 1, inplace= True)\n",
    "X = dt.iloc[:, :-1]\n",
    "Y = dt.iloc[:, -1]\n",
    "X = np.array(X)\n",
    "Y = np.array(Y)"
   ]
  },
  {
   "cell_type": "code",
   "execution_count": 10,
   "id": "1c063f06",
   "metadata": {
    "scrolled": true
   },
   "outputs": [
    {
     "data": {
      "text/plain": [
       "array([46.3, 44.6, 12. , ..., 44.9, 15.3, 40.1])"
      ]
     },
     "execution_count": 10,
     "metadata": {},
     "output_type": "execute_result"
    }
   ],
   "source": [
    "# 划分train test\n",
    "X_train, X_test, y_train, y_test = train_test_split(X, Y, test_size = 0.3)\n"
   ]
  },
  {
   "cell_type": "code",
   "execution_count": null,
   "id": "71779545",
   "metadata": {},
   "outputs": [],
   "source": [
    "pipe.fit(X_train, y_train)"
   ]
  },
  {
   "cell_type": "code",
   "execution_count": null,
   "id": "dfcb2261",
   "metadata": {},
   "outputs": [],
   "source": []
  }
 ],
 "metadata": {
  "kernelspec": {
   "display_name": "Python 3",
   "language": "python",
   "name": "python3"
  },
  "language_info": {
   "codemirror_mode": {
    "name": "ipython",
    "version": 3
   },
   "file_extension": ".py",
   "mimetype": "text/x-python",
   "name": "python",
   "nbconvert_exporter": "python",
   "pygments_lexer": "ipython3",
   "version": "3.8.5"
  }
 },
 "nbformat": 4,
 "nbformat_minor": 5
}
