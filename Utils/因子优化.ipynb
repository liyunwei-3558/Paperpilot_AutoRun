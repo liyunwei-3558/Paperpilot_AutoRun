{
 "cells": [
  {
   "cell_type": "code",
   "execution_count": 7,
   "outputs": [
    {
     "traceback": [
      "\u001b[1;31m---------------------------------------------------------------------------\u001b[0m",
      "\u001b[1;31mModuleNotFoundError\u001b[0m                       Traceback (most recent call last)",
      "\u001b[1;32m<ipython-input-7-ee61aa691ea5>\u001b[0m in \u001b[0;36m<module>\u001b[1;34m\u001b[0m\n\u001b[0;32m      1\u001b[0m \u001b[1;31m# -*- coding: utf-8 -*-\u001b[0m\u001b[1;33m\u001b[0m\u001b[1;33m\u001b[0m\u001b[1;33m\u001b[0m\u001b[0m\n\u001b[0;32m      2\u001b[0m \u001b[1;32mimport\u001b[0m \u001b[0mnumpy\u001b[0m \u001b[1;32mas\u001b[0m \u001b[0mnp\u001b[0m\u001b[1;33m\u001b[0m\u001b[1;33m\u001b[0m\u001b[0m\n\u001b[1;32m----> 3\u001b[1;33m \u001b[1;32mimport\u001b[0m \u001b[0mgeatpy\u001b[0m \u001b[1;32mas\u001b[0m \u001b[0mea\u001b[0m\u001b[1;33m\u001b[0m\u001b[1;33m\u001b[0m\u001b[0m\n\u001b[0m\u001b[0;32m      4\u001b[0m \u001b[1;32mimport\u001b[0m \u001b[0mpandas\u001b[0m \u001b[1;32mas\u001b[0m \u001b[0mpd\u001b[0m\u001b[1;33m\u001b[0m\u001b[1;33m\u001b[0m\u001b[0m\n\u001b[0;32m      5\u001b[0m \u001b[1;32mimport\u001b[0m \u001b[0mlightgbm\u001b[0m \u001b[1;32mas\u001b[0m \u001b[0mlgb\u001b[0m\u001b[1;33m\u001b[0m\u001b[1;33m\u001b[0m\u001b[0m\n",
      "\u001b[1;31mModuleNotFoundError\u001b[0m: No module named 'geatpy'"
     ],
     "ename": "ModuleNotFoundError",
     "evalue": "No module named 'geatpy'",
     "output_type": "error"
    }
   ],
   "source": [
    "# -*- coding: utf-8 -*-\n",
    "import numpy as np\n",
    "import geatpy as ea\n",
    "import pandas as pd\n",
    "import lightgbm as lgb\n",
    "%matplotlib inline\n",
    "\n",
    "\"\"\"\n",
    "该案例展示2个决策变量的单目标优化，决策变量的值将取自于一个设定好的变量集合。\n",
    "max f = (-1+x1+((6-x2)*x2-2)*x2)**2+(-1+x1+((x2+2)*x2-10)*x2)**2\n",
    "s.t.\n",
    "x∈{1.1, 1, 0, 3, 5.5, 7.2, 9}\n",
    "\n",
    "max f = predict(x1,x2,x3,x4)\n",
    "x1:weight [0,100] integer\n",
    "x2:elevator [0,100] integer\n",
    "x3:theta [0, 60] integer\n",
    "x4:rou [0, 120] integer\n",
    "\n",
    "\"\"\"\n",
    "\n",
    "\n",
    "# gbm = lgb.Booster(model_file='model.txt')\n",
    "\n",
    "class MyProblem(ea.Problem):  # 继承Problem父类\n",
    "    def __init__(self):\n",
    "        name = 'MyProblem'  # 初始化name（函数名称，可以随意设置）\n",
    "        M = 1  # 初始化M（目标维数）\n",
    "        maxormins = [-1]  # 初始化maxormins（目标最小最大化标记列表，1：最小化该目标；-1：最大化该目标）\n",
    "        self.var_set = np.arange(0, 121)  # 设定一个集合，要求决策变量的值取自于该集合\n",
    "        Dim = 4  # 初始化Dim（决策变量维数）\n",
    "        varTypes = [1] * Dim  # 初始化varTypes（决策变量的类型，元素为0表示对应的变量是连续的；1表示是离散的）\n",
    "        lb = [0, 0, 0, 0]  # 决策变量下界\n",
    "        ub = [100, 100, 60, 120]  # 决策变量上界\n",
    "        lbin = [1] * Dim  # 决策变量下边界（0表示不包含该变量的下边界，1表示包含）\n",
    "        ubin = [1] * Dim  # 决策变量上边界（0表示不包含该变量的上边界，1表示包含）\n",
    "        # 调用父类构造方法完成实例化\n",
    "        ea.Problem.__init__(self, name, M, maxormins, Dim, varTypes, lb, ub, lbin, ubin)\n",
    "\n",
    "    def aimFunc(self, pop):  # 目标函数\n",
    "        Vars = pop.Phen.astype(np.int32)  # 强制类型转换确保元素是整数\n",
    "        X = self.var_set[Vars[:, :]]\n",
    "\n",
    "        J = self.get_value(X)\n",
    "        # print(J)\n",
    "        # x1 = self.var_set[Vars[:, [0]]]  # 得到所有的x1组成的列向量\n",
    "        # x2 = self.var_set[Vars[:, [1]]]  # 得到所有的x2组成的列向量\n",
    "        pop.ObjV = J\n",
    "        # print(x2)\n",
    "        # pop.ObjV = (-1 + x1 + ((6 - x2) * x2 - 2) * x2) ** 2 + (\n",
    "        #         -1 + x1 + ((x2 + 2) * x2 - 10) * x2) ** 2  # 计算目标函数值，赋值给pop种群对象的ObjV属性\n",
    "\n",
    "        # print(pop.ObjV)\n",
    "    def get_value(self, x):\n",
    "        predictions = np.zeros(len(x))\n",
    "        # print(\"lenx = \",len(x))\n",
    "\n",
    "        for k in range(5):\n",
    "            clf = lgb.Booster(model_file='model' + str(k) + \".txt\")\n",
    "            predictions += clf.predict(x, num_iteration=clf.best_iteration) / 5.0\n",
    "\n",
    "        return predictions.reshape(-1,1)\n",
    "\n",
    "\n",
    "# %%\n",
    "\n",
    "# 导入自定义问题接口\n",
    "\"\"\"===============================实例化问题对象===========================\"\"\"\n",
    "problem = MyProblem()  # 生成问题对象\n",
    "\"\"\"=================================种群设置==============================\"\"\"\n",
    "Encoding = 'RI'  # 编码方式\n",
    "NIND = 25  # 种群规模\n",
    "Field = ea.crtfld(Encoding, problem.varTypes, problem.ranges, problem.borders)  # 创建区域描述器\n",
    "population = ea.Population(Encoding, Field, NIND)  # 实例化种群对象（此时种群还没被初始化，仅仅是完成种群对象的实例化）\n",
    "\"\"\"================================算法参数设置=============================\"\"\"\n",
    "myAlgorithm = ea.soea_DE_rand_1_bin_templet(problem, population)  # 实例化一个算法模板对象\n",
    "myAlgorithm.MAXGEN = 100  # 最大进化代数\n",
    "myAlgorithm.mutOper.F = 0.5  # 差分进化中的参数F\n",
    "myAlgorithm.recOper.XOVR = 0.2  # 重组概率\n",
    "myAlgorithm.trappedValue = 1e-6  # “进化停滞”判断阈值\n",
    "myAlgorithm.maxTrappedCount = 10  # 进化停滞计数器最大上限值，如果连续maxTrappedCount代被判定进化陷入停滞，则终止进化\n",
    "myAlgorithm.logTras = 1  # 设置每隔多少代记录日志，若设置成0则表示不记录日志\n",
    "myAlgorithm.verbose = True  # 设置是否打印输出日志信息\n",
    "myAlgorithm.drawing = 3  # 设置绘图方式（0：不绘图；1：绘制结果图；2：绘制目标空间过程动画；3：绘制决策空间过程动画）\n",
    "\"\"\"===========================调用算法模板进行种群进化=======================\"\"\"\n",
    "[BestIndi, population] = myAlgorithm.run()  # 执行算法模板，得到最优个体以及最后一代种群\n",
    "BestIndi.save()  # 把最优个体的信息保存到文件中\n",
    "\"\"\"==================================输出结果==============================\"\"\"\n",
    "print('用时：%f 秒' % myAlgorithm.passTime)\n",
    "print('评价次数：%d 次' % myAlgorithm.evalsNum)\n",
    "if BestIndi.sizes != 0:\n",
    "    print('最优的目标函数值为：%s' % BestIndi.ObjV[0][0])\n",
    "    print('最优的控制变量值为：')\n",
    "    for i in range(BestIndi.Phen.shape[1]):\n",
    "        print(problem.var_set[BestIndi.Phen[0, i].astype(int)])\n",
    "else:\n",
    "    print('没找到可行解。')\n",
    "\n",
    "# %%"
   ],
   "metadata": {
    "collapsed": false,
    "pycharm": {
     "name": "#%%\n",
     "is_executing": false
    }
   }
  },
  {
   "cell_type": "code",
   "execution_count": null,
   "outputs": [],
   "source": [
    "\n"
   ],
   "metadata": {
    "collapsed": false,
    "pycharm": {
     "name": "#%%\n"
    }
   }
  }
 ],
 "metadata": {
  "kernelspec": {
   "display_name": "Python 3",
   "language": "python",
   "name": "python3"
  },
  "language_info": {
   "codemirror_mode": {
    "name": "ipython",
    "version": 2
   },
   "file_extension": ".py",
   "mimetype": "text/x-python",
   "name": "python",
   "nbconvert_exporter": "python",
   "pygments_lexer": "ipython2",
   "version": "2.7.6"
  },
  "pycharm": {
   "stem_cell": {
    "cell_type": "raw",
    "source": [
     "# %%"
    ],
    "metadata": {
     "collapsed": false
    }
   }
  }
 },
 "nbformat": 4,
 "nbformat_minor": 0
}